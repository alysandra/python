{
 "cells": [
  {
   "cell_type": "markdown",
   "metadata": {},
   "source": [
    "<table class=\"table table-bordered\">\n",
    "    <tr>\n",
    "        <th style=\"text-align:center; width:35%\"><img src='https://dl.dropbox.com/s/qtzukmzqavebjd2/icon_smu.jpg' style=\"width: 300px; height: 90px; \"></th>\n",
    "        <th style=\"text-align:center;\"><h3>ACCT649 - Lab 3</h3><h3>Conditions and Tuples</h3><h3>Part I</h3></th>\n",
    "    </tr>\n",
    "</table>\n",
    "\n",
    "*This course material is adapted based on the IS111 curriculum"
   ]
  },
  {
   "cell_type": "markdown",
   "metadata": {},
   "source": [
    "### Q1: Code Tracing\n",
    "\n",
    "You are given the following code. Without running the code, could you figure out what's the output of the code?\n",
    "\n",
    "#### a)"
   ]
  },
  {
   "cell_type": "code",
   "execution_count": null,
   "metadata": {},
   "outputs": [],
   "source": [
    "def perform_magic1(condition, output):\n",
    "    if (condition):\n",
    "        print(output)\n",
    "\n",
    "\n",
    "def perform_magic2(condition, output):\n",
    "    if (condition):\n",
    "        print(output)\n",
    "    else:\n",
    "        print(\"The condition is false!\")\n",
    "\n",
    "def perform_magic3(a, b):\n",
    "    if (a >= b):\n",
    "        print(\"a >= b\")\n",
    " \n",
    "    if (a <= b):\n",
    "        print(\"a <= b\")\n",
    "\n",
    "a = 12\n",
    "b = 15\n",
    "\n",
    "perform_magic1(a == b, \"a == b\") #blank\n",
    "perform_magic2(a > b, \"a > b\") #\"The condition is false!\"\n",
    "perform_magic3(a + 3, b) #a=15, a>=b, a<=b"
   ]
  },
  {
   "cell_type": "markdown",
   "metadata": {},
   "source": [
    "#### b)"
   ]
  },
  {
   "cell_type": "code",
   "execution_count": null,
   "metadata": {},
   "outputs": [],
   "source": [
    "def compare_values_1(a, b):\n",
    "    if (a != b):\n",
    "        return True\n",
    "    else:\n",
    "        return False\n",
    "    \n",
    "def compare_values_2(a, b, c):\n",
    "    if (a == b + c):\n",
    "        print(\"a == b + c\")\n",
    "    if (b == a + c):\n",
    "        print(\"b == a + c\")\n",
    "    if (c == a + b):\n",
    "        print(\"c == a + b\")\n",
    "\n",
    "print(compare_values_1(\"1 + 2\", \"3\")) #True\n",
    "compare_values_2('1', '', '1') #\"a == b + c\", c == a + b"
   ]
  },
  {
   "cell_type": "markdown",
   "metadata": {},
   "source": [
    "### Q2: Online Shopping\n",
    "\n",
    "<b>Part I</b>\n",
    "\n",
    "Suppose you are purchasing some Christmas gifts on an online retail website. At the website, you get 10% discount if you are a member. If an item is on sale (regardless of whether you are a member or not), you get 5% discount. (So if you are a member and you are buying an item on sale, you get 15% discount.)\n",
    "\n",
    "Write a function called <b>calculate_price</b> that takes in three parameters: the cost of the item that you are purchasing (a float), a Boolean variable indicating whether you are a member or not, and another Boolean value indicating whether the item is on sale or not. The function applies the discount appropriately and returns the final discounted price of the item.\n",
    "\n"
   ]
  },
  {
   "cell_type": "code",
   "execution_count": 2,
   "metadata": {},
   "outputs": [],
   "source": [
    "# These variables are defined for you to use.\n",
    "MEMBER_DISCOUNT_RATE = 0.10\n",
    "SALE_ITEM_DISCOUNT_RATE = 0.05\n",
    "\n",
    "# This function is for you to implement!\n",
    "def calculate_price(orig_price, is_member, is_on_sale):\n",
    "    \n",
    "    # ################################################################################\n",
    "    # Modify the code below to return the correct discounted price.\n",
    "    \n",
    "    if is_member is True:\n",
    "        x = orig_price*0.9\n",
    "    else: \n",
    "        x = orig_price\n",
    "    \n",
    "    if is_on_sale is True:\n",
    "        x = x * 0.95\n",
    "    \n",
    "    return x \n",
    "\n",
    "#calculate_price(20,False,True)\n",
    "    # ################################################################################"
   ]
  },
  {
   "cell_type": "markdown",
   "metadata": {},
   "source": [
    "<b>Part II</b>\n",
    "\n",
    "Now write Python code that prompts the user for the following information: (1) The original price of the item. (2) Whether the user is a member or not. (3) Whether the item is on sale or not.\n",
    "\n",
    "The code then displays the final price of the item.\n",
    "\n",
    "Use the function you have implemented above to help you with this part.\n",
    "\n",
    "Two sample runs of the code can be found below. You can assume that for the second and the third inputs, the user is always going to enter either 'yes' or 'no' in lowercase."
   ]
  },
  {
   "cell_type": "markdown",
   "metadata": {},
   "source": [
    "<img align=\"left\" src='https://drive.google.com/uc?export=view&id=0B3N0YMArBdSBclhyeHR6OEdtaWs' style=\"width: 400px\">"
   ]
  },
  {
   "cell_type": "markdown",
   "metadata": {},
   "source": [
    "<img align=\"left\" src='https://drive.google.com/uc?export=view&id=0B3N0YMArBdSBbFk3NmZKWUlDUVU' style=\"width: 400px\">"
   ]
  },
  {
   "cell_type": "code",
   "execution_count": 3,
   "metadata": {},
   "outputs": [
    {
     "name": "stdout",
     "output_type": "stream",
     "text": [
      "What's the original price of the item: $20\n",
      "Are you a member [yes|no]?no\n",
      "Is the item on sale [yes|no]?yes\n",
      "The final price of the item is $ 19.0\n"
     ]
    }
   ],
   "source": [
    "# Write your code below:\n",
    "# ####################\n",
    "\n",
    "def final_cal():\n",
    "    orig_price = float(input(\"What's the original price of the item: $\"))\n",
    "    if input(\"Are you a member [yes|no]?\") == \"yes\":\n",
    "        is_member = True\n",
    "    else: is_member = False\n",
    "    if input(\"Is the item on sale [yes|no]?\") == \"yes\":\n",
    "        is_on_sale = True\n",
    "    else: is_on_sale = False\n",
    "    y = round(calculate_price(orig_price, is_member, is_on_sale),1)\n",
    "    \n",
    "    print(\"The final price of the item is $\",y)\n",
    "\n",
    "\n",
    "final_cal()\n",
    "\n",
    "# ####################"
   ]
  },
  {
   "cell_type": "code",
   "execution_count": 4,
   "metadata": {},
   "outputs": [
    {
     "ename": "SyntaxError",
     "evalue": "invalid syntax (3125423085.py, line 3)",
     "output_type": "error",
     "traceback": [
      "\u001b[1;36m  Input \u001b[1;32mIn [4]\u001b[1;36m\u001b[0m\n\u001b[1;33m    A shop pays its sales staff based on each salesperson’s monthly sales. Each salesperson is paid a base monthly salary of\u001b[0m\n\u001b[1;37m      ^\u001b[0m\n\u001b[1;31mSyntaxError\u001b[0m\u001b[1;31m:\u001b[0m invalid syntax\n"
     ]
    }
   ],
   "source": [
    "### Q3: Monthly Salary\n",
    "\n",
    "A shop pays its sales staff based on each salesperson’s monthly sales. Each salesperson is paid a base monthly salary of \n",
    "$2000 plus commission based on the following table:\n",
    "\n",
    "| Monthly Sales ($) | Commission Rate (%) |\n",
    "| --- | --- |\n",
    "| below 10,000 | 5 |\n",
    "| 10,000 (inclusive) to 15,000 (exclusive) | 10 |\n",
    "| 15,000 (inclusive) to 18,000 (exclusive) | 15 |\n",
    "| 18,000 and above | 18 |\n",
    "\n",
    "<b>Part I</b>\n",
    "\n",
    "Implement a function in Python called <b>calculate_salary</b> that takes in a salesperson's monthly sales amount ($) and \n",
    "calculate this salesperson's total salary (base salary plus commission) for that month."
   ]
  },
  {
   "cell_type": "code",
   "execution_count": 5,
   "metadata": {},
   "outputs": [],
   "source": [
    "# This variable is defined for you to use.\n",
    "BASE_SALARY = 2000.0\n",
    "\n",
    "# This function is for you to implement!\n",
    "def calculate_salary(monthly_sales):\n",
    "    \n",
    "    # ################################################################################\n",
    "    # Modify the code below to return the right amount of salary.\n",
    "    if monthly_sales < 10000:\n",
    "        comm = 0.05\n",
    "    elif monthly_sales <15000:\n",
    "        comm = 0.10\n",
    "    elif monthly_sales <18000:\n",
    "        comm = 0.15\n",
    "    else: comm = 0.18\n",
    "    \n",
    "    return BASE_SALARY + comm*monthly_sales\n",
    "    \n",
    "#calculate_salary(19000) \n",
    "    # ################################################################################"
   ]
  },
  {
   "cell_type": "markdown",
   "metadata": {},
   "source": [
    "<b>Part II</b>\n",
    "\n",
    "Now prompt the user for a monthly sales amount. Call the function above to calculate the total monthly salary and display the amount.\n",
    "\n",
    "Two sample runs of the code are shown as follows:"
   ]
  },
  {
   "cell_type": "markdown",
   "metadata": {},
   "source": [
    "<img align=\"left\" src='https://drive.google.com/uc?export=view&id=0B3N0YMArBdSBTTdRMm0xNkR2bE0' style=\"width: 450px\">"
   ]
  },
  {
   "cell_type": "markdown",
   "metadata": {},
   "source": [
    "<img align=\"left\" src='https://drive.google.com/uc?export=view&id=0B3N0YMArBdSBa2tlaFExZ2xaa1U' style=\"width: 450px\">"
   ]
  },
  {
   "cell_type": "code",
   "execution_count": 6,
   "metadata": {},
   "outputs": [
    {
     "name": "stdout",
     "output_type": "stream",
     "text": [
      "Enter monthly sales amount($):15000\n",
      "The monthly pay for the sales person is $ 4250.0\n"
     ]
    }
   ],
   "source": [
    "# Write your code below\n",
    "\n",
    "print(\"The monthly pay for the sales person is $\", calculate_salary(float(input(\"Enter monthly sales amount($):\"))))\n"
   ]
  },
  {
   "cell_type": "markdown",
   "metadata": {},
   "source": [
    "### Q4: Zoo Ticket\n",
    "\n",
    "\n",
    "The Singapore Zoo offers the following prices to its visitors based on the visitor's age:\n",
    "\n",
    "<ul>\n",
    "<li>Adult: \\$33 (full rate)</li>\n",
    "<li>Child (3 - 12, both inclusive): \\$22 (discounted rate)</li>\n",
    "<li>Senior Citizen (60 and above): \\$15 (discounted rate)</li>\n",
    "</ul>\n",
    "\n",
    "It is free for children below 3.\n",
    "\n",
    "#### a) define get_ticket_info\n",
    "\n",
    "Write a function called <b>get_ticket_info</b> that takes in the age of a visitor. The function returns a tuple that contains two values: (1) The price this person has to pay for his/her ticket. (2) A Boolean value indicating whether or not the person has got a discounted price. Note that children below 3 pay $0 and are also considered to receive a discounted price.\n",
    "\n",
    "Use the test code we have provided below to test your implmentation."
   ]
  },
  {
   "cell_type": "code",
   "execution_count": 39,
   "metadata": {},
   "outputs": [
    {
     "name": "stdout",
     "output_type": "stream",
     "text": [
      "How old are you? 10\n",
      "(22, True)\n",
      "How old are you? 20\n",
      "(33, False)\n"
     ]
    },
    {
     "ename": "TypeError",
     "evalue": "'function' object is not subscriptable",
     "output_type": "error",
     "traceback": [
      "\u001b[1;31m---------------------------------------------------------------------------\u001b[0m",
      "\u001b[1;31mTypeError\u001b[0m                                 Traceback (most recent call last)",
      "Input \u001b[1;32mIn [39]\u001b[0m, in \u001b[0;36m<cell line: 34>\u001b[1;34m()\u001b[0m\n\u001b[0;32m     31\u001b[0m \u001b[38;5;66;03m# The following line of code should display (22, True)\u001b[39;00m\n\u001b[0;32m     32\u001b[0m \u001b[38;5;28mprint\u001b[39m(get_ticket_info(\u001b[38;5;241m10\u001b[39m))\n\u001b[1;32m---> 34\u001b[0m a \u001b[38;5;241m=\u001b[39m(\u001b[43mget_ticket_info\u001b[49m\u001b[43m[\u001b[49m\u001b[38;5;241;43m1\u001b[39;49m\u001b[43m]\u001b[49m)\n",
      "\u001b[1;31mTypeError\u001b[0m: 'function' object is not subscriptable"
     ]
    }
   ],
   "source": [
    "# The following function is for you to implement.\n",
    "def get_ticket_info(age):\n",
    "    \n",
    "    # Modify the code below to return the right value\n",
    "    x = float(input(\"How old are you? \"))\n",
    "    \n",
    "    if (x >= 60) or (x <= 12): \n",
    "        disc = True\n",
    "        if x >= 60:\n",
    "            y = 15\n",
    "        elif x < 3:\n",
    "            y = 0 \n",
    "        else:\n",
    "            y = 22\n",
    "        \n",
    "    else:\n",
    "        y = 33\n",
    "        disc = False\n",
    "    \n",
    "\n",
    "    return (int(y), disc)\n",
    "    \n",
    "    \n",
    "# ################################################################################\n",
    "# The code below is to test your implementation of the function above. \n",
    "# DO NOT MODIFY THE CODE BELOW!\n",
    "\n",
    "# The following line of code should display (33, False)\n",
    "print(get_ticket_info(40))\n",
    "\n",
    "# The following line of code should display (22, True)\n",
    "print(get_ticket_info(10))"
   ]
  },
  {
   "cell_type": "markdown",
   "metadata": {},
   "source": [
    "#### b) use get_ticket_info\n",
    "\n",
    "Now use the <b>get_ticket_info</b> function you have implemented above to write a piece of code that does the following:\n",
    "\n",
    "Prompt the user for his/her age. If the user qualifies for a discounted ticket, display the message \"Congratulations! You qualify for a discount.\" Then display the price of the ticket for this user no matter whether he/she qualifies for a discount.\n",
    "\n",
    "Two sample runs of the code can be found below:"
   ]
  },
  {
   "cell_type": "markdown",
   "metadata": {
    "collapsed": true
   },
   "source": [
    "<img align=\"left\" src='https://drive.google.com/uc?export=view&id=0B3N0YMArBdSBakxqZTBUb0hxSEU' style=\"width: 180px\">"
   ]
  },
  {
   "cell_type": "markdown",
   "metadata": {
    "collapsed": true
   },
   "source": [
    "<img align=\"left\" src='https://drive.google.com/uc?export=view&id=0B3N0YMArBdSBd1NvNTJpcWJvV1k' style=\"width: 400px\">"
   ]
  },
  {
   "cell_type": "code",
   "execution_count": 50,
   "metadata": {},
   "outputs": [
    {
     "name": "stdout",
     "output_type": "stream",
     "text": [
      "How old are you? 10\n",
      "Congratulations! You qualify for a discount.\n",
      "You need to pay $ 22\n"
     ]
    }
   ],
   "source": [
    "# Write your code below.\n",
    "a,b = get_ticket_info(10)\n",
    "\n",
    "if b == True:\n",
    "    print(\"Congratulations! You qualify for a discount.\")\n",
    "print(\"You need to pay $\", a) \n",
    "\n",
    "\n",
    "\n"
   ]
  },
  {
   "cell_type": "markdown",
   "metadata": {
    "collapsed": true
   },
   "source": [
    "### Please refer to the Word document for Part II of Lab 3"
   ]
  },
  {
   "cell_type": "code",
   "execution_count": 60,
   "metadata": {},
   "outputs": [
    {
     "name": "stdout",
     "output_type": "stream",
     "text": [
      "What's your name? ni\n",
      "What's your gender? [M|F] M\n",
      "What's your age? 88\n",
      "Are you a student? [yes|no] no\n",
      "Mr. ni , you can get concessionary fare for senior citizens.\n"
     ]
    }
   ],
   "source": [
    "##Qn 5 -> moved from notepad+\n",
    "\n",
    "def get_personal_info():\n",
    "    \"\"\"\n",
    "    This function prompts the user for his/her name, gender, age and whether\n",
    "    or not he/she is a student.\n",
    "    The function returns a tuple that contains all the information entered\n",
    "    by the user.\n",
    "    \"\"\"\n",
    "    name = input(\"What's your name? \")\n",
    "    gender = input(\"What's your gender? [M|F] \")\n",
    "    age = int(input(\"What's your age? \"))\n",
    "    is_student = input(\"Are you a student? [yes|no] \")\n",
    "    return (name, gender, age, is_student == 'yes')\n",
    "\n",
    "# Write your code below:\n",
    "\n",
    "name,gen,age,student = get_personal_info()\n",
    "if gen == \"M\":\n",
    "    geni = \"Mr.\"\n",
    "else:\n",
    "    geni = \"Ms.\"\n",
    "\n",
    "if age <= 6:\n",
    "    print(name, \", you can travel for free\")\n",
    "elif age > 60:\n",
    "    print(geni, name, \", you can get concessionary fare for senior citizens.\")\n",
    "else:\n",
    "    if student == True:\n",
    "        print(geni, name, \", you can get concessionary fare for students\")\n",
    "    else:\n",
    "        print(geni, name, \", you need to pay full fare.\")\n"
   ]
  },
  {
   "cell_type": "code",
   "execution_count": 82,
   "metadata": {},
   "outputs": [
    {
     "name": "stdout",
     "output_type": "stream",
     "text": [
      "What is the flag-down fare: $3.9\n",
      "What is the rate per 400 meters within 9.8km? $.3\n",
      "What is the rate per 300 meters after 9.8km? $.3\n",
      "What is the distance travelled (in meters)?8750\n",
      "Is the ride during a peak period? [yes/no]yes\n",
      "Is there any location surcharge? [yes/no]no\n",
      "The total fare is $ 12.38\n"
     ]
    }
   ],
   "source": [
    "##Qn 6 -> moved from notepad+\n",
    "\n",
    "def taxifare():\n",
    "    \"\"\"\n",
    "    Because the real fare structure is so complex, we will use the following simplified fare structure for this question.\n",
    "•\tThe total taxi fare of a ride consists of two parts: (1) meter fare, and (2) surcharges.\n",
    "•\tThe meter fare of a ride consists of two parts: (1) flag-down fare, and (2) fare based on distance rate.\n",
    "o\tThe flag-down fare convers the first 1km of a ride. If the ride is shorter than 1km, the total meter fare is the flag-down fare.\n",
    "o\tIf the ride is between 1km and 9.8km, the additional distance beyond 1km incurs a fare based on a distance rate per 400 meters. (Note that we use 9.8km instead of 10km here to simplify the calculation later.)\n",
    "o\tFor any additional distance beyond 9.8km, there is another distance rate per 350 meters.\n",
    "•\tWe consider two kinds of surcharges: (1) time-based surcharges, and (2) location surcharges.\n",
    "o\tWe assume that if the ride is during a peak period, the time-based surcharge is 25% of the meter fare. If a ride is between midnight and 6am, the time-based surcharge is 50% of the meter fare. Other rides don’t have any time-based surcharge.\n",
    "For example, suppose we have the following rates for a taxi ride:\n",
    "•\tFlag-down: $3.50\n",
    "•\tBeyond 1km and up to 9.8km: 22 cents per 400 meters\n",
    "•\tAfter 9.8km: 22 cents per 350 meters\n",
    "Suppose a taxi ride has a distance of 11400 meters. Also suppose that the ride is between midnight and 6am, and there is a location surcharge of $3.00.\n",
    "Then the total taxi fare is calculated as follows:\n",
    "•\tMeter fare:\n",
    "o\tFlag-down for the first 1km: $3.50\n",
    "o\tNext 8800 meters: $0.22 * 22 = $4.84\n",
    "o\tNext 1600 meters: $0.22 * 5 = $1.10\n",
    "o\tTotal meter fare: $9.44\n",
    "•\tTime-based surcharge:\n",
    "o\t$9.44 x 50% = $4.72\n",
    "•\tLocation surcharge:\n",
    "o\t$3.00\n",
    "•\tTotal fare: ($9.44 + $4.72 + $3.00) = $17.16\n",
    "\n",
    "Create a python script called taxi_fare.py that helps a user calculate the taxi fare of a journey. \n",
    "Two sample runs of the program can be found below. \n",
    "Note: \n",
    "•\tFor the distance travelled, you can assume that the user is always going to enter a whole number.\n",
    "•\tIf the ride is during a peak period, the program should not ask the user whether the ride is between midnight and 6am.\n",
    "\n",
    "    \"\"\"\n",
    "    flag = float(input(\"What is the flag-down fare: $\"))\n",
    "    f1 = float(input(\"What is the rate per 400 meters within 9.8km? $\"))\n",
    "    f2 = float(input(\"What is the rate per 300 meters after 9.8km? $\"))\n",
    "    dist = int(input(\"What is the distance travelled (in meters)?\"))\n",
    "\n",
    "    meterfare = flag\n",
    "    dist -= 1000\n",
    "    if dist <=8800:\n",
    "        if dist%400 >0:\n",
    "            y = 1 + dist//400\n",
    "        else: y = dist//400\n",
    "        meterfare += y * f1\n",
    "    else:\n",
    "        meterfare += 8800/400 * f1\n",
    "        dist -=8800\n",
    "        if dist%350 >0:\n",
    "            y = 1 + dist//350\n",
    "        else: y = dist//350\n",
    "        meterfare += y * f2\n",
    "    \n",
    "    surch = 1\n",
    "    s3 = 0\n",
    "    s1 = input(\"Is the ride during a peak period? [yes/no]\")\n",
    "    if s1 == \"yes\":\n",
    "        surch = 1.25\n",
    "    else:\n",
    "        s2 = input(\"Is the ride between midnight and 6am? [yes/no]\")\n",
    "        if s2 == \"yes\":\n",
    "            surch = 1.5\n",
    "    \n",
    "    localsur = input(\"Is there any location surcharge? [yes/no]\")\n",
    "    if localsur == \"yes\":\n",
    "        s3 = float(input(\"What is the amount of location surcharge? \"))\n",
    "    print(\"The total fare is $\",round(float(meterfare*surch + s3),2))\n",
    "    \n",
    "taxifare()"
   ]
  },
  {
   "cell_type": "code",
   "execution_count": null,
   "metadata": {},
   "outputs": [],
   "source": []
  }
 ],
 "metadata": {
  "kernelspec": {
   "display_name": "Python 3 (ipykernel)",
   "language": "python",
   "name": "python3"
  },
  "language_info": {
   "codemirror_mode": {
    "name": "ipython",
    "version": 3
   },
   "file_extension": ".py",
   "mimetype": "text/x-python",
   "name": "python",
   "nbconvert_exporter": "python",
   "pygments_lexer": "ipython3",
   "version": "3.9.12"
  }
 },
 "nbformat": 4,
 "nbformat_minor": 2
}
